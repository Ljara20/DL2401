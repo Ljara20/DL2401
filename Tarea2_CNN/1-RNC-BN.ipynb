{
 "cells": [
  {
   "cell_type": "markdown",
   "id": "c0495660",
   "metadata": {},
   "source": [
    "# procesamiento de imagenes"
   ]
  },
  {
   "cell_type": "code",
   "execution_count": 1,
   "id": "b3c27020",
   "metadata": {},
   "outputs": [],
   "source": [
    "# Importar las liobrerías y paquetes\n",
    "from keras.models import Sequential\n",
    "from keras.layers import Conv2D\n",
    "from keras.layers import MaxPooling2D\n",
    "from keras.layers import Flatten\n",
    "from keras.layers import Dense\n",
    "from keras.layers import Dropout\n",
    "\n",
    "import pandas as pd\n",
    "import keras"
   ]
  },
  {
   "cell_type": "markdown",
   "id": "b8e8341e",
   "metadata": {},
   "source": [
    "## Ajustar la CNN a las imágenes"
   ]
  },
  {
   "cell_type": "code",
   "execution_count": 2,
   "id": "b105d37a",
   "metadata": {},
   "outputs": [],
   "source": [
    "from keras.preprocessing.image import ImageDataGenerator"
   ]
  },
  {
   "cell_type": "code",
   "execution_count": 3,
   "id": "410661f0",
   "metadata": {},
   "outputs": [],
   "source": [
    "pixel=150\n",
    "size=16\n",
    "epocas=20"
   ]
  },
  {
   "cell_type": "code",
   "execution_count": 4,
   "id": "7c7a42d6",
   "metadata": {},
   "outputs": [],
   "source": [
    "train_datagen = ImageDataGenerator(rescale = 1./255)"
   ]
  },
  {
   "cell_type": "code",
   "execution_count": 5,
   "id": "caeff3db",
   "metadata": {},
   "outputs": [],
   "source": [
    "validation_datagen = ImageDataGenerator(rescale = 1./255)"
   ]
  },
  {
   "cell_type": "code",
   "execution_count": 6,
   "id": "e6bfae02",
   "metadata": {},
   "outputs": [],
   "source": [
    "test_datagen = ImageDataGenerator(rescale = 1./255)"
   ]
  },
  {
   "cell_type": "code",
   "execution_count": null,
   "id": "f8e960af",
   "metadata": {},
   "outputs": [],
   "source": []
  },
  {
   "cell_type": "code",
   "execution_count": 7,
   "id": "1e5476f1",
   "metadata": {},
   "outputs": [
    {
     "name": "stdout",
     "output_type": "stream",
     "text": [
      "Found 2000 images belonging to 2 classes.\n"
     ]
    }
   ],
   "source": [
    "train_generator = train_datagen.flow_from_directory(\n",
    "    'dataset/training_set',    #directorio\n",
    "    target_size=(pixel, pixel),      #reescalado\n",
    "    color_mode=\"grayscale\",          #rgb color, grayscale grises   \n",
    "    batch_size=size,             #num de imagenes producidas por el generador de lotes \n",
    "    class_mode='binary',       #binary para 2 clases, categorical para mas de 2 clases\n",
    "    shuffle=True,              #mezclar el orden de la imagen que se está produciendo\n",
    "    seed=42                    #semilla aleatoria\n",
    ")"
   ]
  },
  {
   "cell_type": "code",
   "execution_count": null,
   "id": "9e2f6837",
   "metadata": {},
   "outputs": [],
   "source": []
  },
  {
   "cell_type": "code",
   "execution_count": 8,
   "id": "1a8b810d",
   "metadata": {},
   "outputs": [
    {
     "name": "stdout",
     "output_type": "stream",
     "text": [
      "Found 500 images belonging to 2 classes.\n"
     ]
    }
   ],
   "source": [
    "validation_generator = validation_datagen.flow_from_directory(\n",
    "    'dataset/validation_set',\n",
    "    target_size=(pixel, pixel),      #reescalado\n",
    "    color_mode=\"grayscale\",          #rgb color, grayscale grises   \n",
    "    batch_size=size,             #num de imagenes producidas por el generador de lotes \n",
    "    class_mode='binary',       #binary para 2 clases, categorical para mas de 2 clases\n",
    "    shuffle=True,              #mezclar el orden de la imagen que se está produciendo\n",
    "    seed=42                    #semilla aleatoria\n",
    ")"
   ]
  },
  {
   "cell_type": "code",
   "execution_count": 9,
   "id": "ebc487ed",
   "metadata": {},
   "outputs": [
    {
     "name": "stdout",
     "output_type": "stream",
     "text": [
      "Found 500 images belonging to 2 classes.\n"
     ]
    }
   ],
   "source": [
    "test_generator = test_datagen.flow_from_directory(\n",
    "    'dataset/test_set',\n",
    "    target_size=(pixel, pixel),      #reescalado\n",
    "    color_mode=\"grayscale\",          #rgb color, grayscale grises   \n",
    "    batch_size=size,             #num de imagenes producidas por el generador de lotes \n",
    "    class_mode='binary',       #binary para 2 clases, categorical para mas de 2 clases\n",
    "    shuffle=True,              #mezclar el orden de la imagen que se está produciendo\n",
    "    seed=42                    #semilla aleatoria\n",
    ")"
   ]
  },
  {
   "cell_type": "code",
   "execution_count": null,
   "id": "c08b9569",
   "metadata": {},
   "outputs": [],
   "source": []
  },
  {
   "cell_type": "markdown",
   "id": "19c1f144",
   "metadata": {},
   "source": [
    "## 1 - Construccion Red Neuronal"
   ]
  },
  {
   "cell_type": "code",
   "execution_count": 10,
   "id": "12ac473f",
   "metadata": {},
   "outputs": [],
   "source": [
    "# Inicializar la CNN\n",
    "classifier = Sequential()"
   ]
  },
  {
   "cell_type": "markdown",
   "id": "8dc111fb",
   "metadata": {},
   "source": [
    "### Paso 1 - Convolución "
   ]
  },
  {
   "cell_type": "code",
   "execution_count": 11,
   "id": "8930c9d7",
   "metadata": {},
   "outputs": [],
   "source": [
    "# Convolución\n",
    "capa11=Conv2D(filters = 32,\n",
    "              padding='same',\n",
    "              kernel_size = (3, 3),\n",
    "              use_bias=1,\n",
    "              input_shape = (pixel, pixel, 1), \n",
    "              activation = \"relu\")"
   ]
  },
  {
   "cell_type": "markdown",
   "id": "ed5cb247",
   "metadata": {},
   "source": [
    "### Paso 2 - Max Pooling"
   ]
  },
  {
   "cell_type": "code",
   "execution_count": 12,
   "id": "5143e6a1",
   "metadata": {},
   "outputs": [],
   "source": [
    "capa12=MaxPooling2D(pool_size = (2,2))\n",
    "capa13=Dropout(0.25)"
   ]
  },
  {
   "cell_type": "markdown",
   "id": "38805a03",
   "metadata": {},
   "source": [
    "### Capa 2"
   ]
  },
  {
   "cell_type": "code",
   "execution_count": 13,
   "id": "e5e31957",
   "metadata": {},
   "outputs": [],
   "source": [
    "capa21=Conv2D(filters = 64,\n",
    "             padding='same',\n",
    "             kernel_size = (3, 3),\n",
    "             use_bias=1,\n",
    "             activation = \"relu\")"
   ]
  },
  {
   "cell_type": "code",
   "execution_count": 14,
   "id": "0f5ac28e",
   "metadata": {},
   "outputs": [],
   "source": [
    "capa22=MaxPooling2D(pool_size = (2,2))\n",
    "capa23=Dropout(0.25)"
   ]
  },
  {
   "cell_type": "markdown",
   "id": "4faf73c3",
   "metadata": {},
   "source": [
    "## Capa 3"
   ]
  },
  {
   "cell_type": "code",
   "execution_count": 15,
   "id": "6d38b56b",
   "metadata": {},
   "outputs": [],
   "source": [
    "capa31=Conv2D(filters = 128,\n",
    "             padding='same',\n",
    "             kernel_size = (3, 3),\n",
    "             use_bias=1,\n",
    "             activation = \"relu\")"
   ]
  },
  {
   "cell_type": "code",
   "execution_count": 16,
   "id": "9de0e5b0",
   "metadata": {},
   "outputs": [],
   "source": [
    "capa32=MaxPooling2D(pool_size = (2,2))\n",
    "capa33=Dropout(0.25)"
   ]
  },
  {
   "cell_type": "markdown",
   "id": "3162699e",
   "metadata": {},
   "source": [
    "## Capa 4"
   ]
  },
  {
   "cell_type": "code",
   "execution_count": 17,
   "id": "80ab12d0",
   "metadata": {},
   "outputs": [],
   "source": [
    "capa41=Conv2D(filters = 128,\n",
    "             padding='same',\n",
    "             kernel_size = (3, 3),\n",
    "             use_bias=1,\n",
    "             activation = \"relu\")"
   ]
  },
  {
   "cell_type": "code",
   "execution_count": 18,
   "id": "8337ab7e",
   "metadata": {},
   "outputs": [],
   "source": [
    "capa42=MaxPooling2D(pool_size = (2,2))\n",
    "capa43=Dropout(0.25)"
   ]
  },
  {
   "cell_type": "markdown",
   "id": "15f8b3c5",
   "metadata": {},
   "source": [
    "## Capa 5"
   ]
  },
  {
   "cell_type": "markdown",
   "id": "08fde434",
   "metadata": {},
   "source": [
    "### Paso 3 - Flattening"
   ]
  },
  {
   "cell_type": "code",
   "execution_count": 19,
   "id": "c9ba1aaf",
   "metadata": {},
   "outputs": [],
   "source": [
    "capa51=Flatten()"
   ]
  },
  {
   "cell_type": "markdown",
   "id": "4d5b8c5c",
   "metadata": {},
   "source": [
    "## Capa 6"
   ]
  },
  {
   "cell_type": "markdown",
   "id": "1b15f079",
   "metadata": {},
   "source": [
    "### Paso 4 - Full Connection"
   ]
  },
  {
   "cell_type": "code",
   "execution_count": 20,
   "id": "75fc499c",
   "metadata": {},
   "outputs": [],
   "source": [
    "capa61=Dense(512, use_bias=1, activation = \"relu\")\n",
    "capa62=Dense(1, use_bias=1, activation = \"sigmoid\")"
   ]
  },
  {
   "cell_type": "markdown",
   "id": "ecd7a55c",
   "metadata": {},
   "source": [
    "### armando la red"
   ]
  },
  {
   "cell_type": "code",
   "execution_count": 21,
   "id": "38ea2994",
   "metadata": {},
   "outputs": [],
   "source": [
    "classifier.add(capa11)\n",
    "classifier.add(capa12)\n",
    "\n",
    "classifier.add(capa21)\n",
    "classifier.add(capa22)\n",
    "\n",
    "classifier.add(capa31)\n",
    "classifier.add(capa32)\n",
    "\n",
    "classifier.add(capa41)\n",
    "classifier.add(capa42)\n",
    "\n",
    "classifier.add(capa51)\n",
    "\n",
    "classifier.add(capa61)\n",
    "classifier.add(capa62)\n",
    "\n",
    "\n",
    "\n"
   ]
  },
  {
   "cell_type": "code",
   "execution_count": null,
   "id": "eff4adb4",
   "metadata": {},
   "outputs": [],
   "source": []
  },
  {
   "cell_type": "markdown",
   "id": "40d6711f",
   "metadata": {},
   "source": [
    "### Resumen"
   ]
  },
  {
   "cell_type": "code",
   "execution_count": 22,
   "id": "15a90c75",
   "metadata": {},
   "outputs": [
    {
     "name": "stdout",
     "output_type": "stream",
     "text": [
      "Model: \"sequential\"\n",
      "_________________________________________________________________\n",
      " Layer (type)                Output Shape              Param #   \n",
      "=================================================================\n",
      " conv2d (Conv2D)             (None, 150, 150, 32)      320       \n",
      "                                                                 \n",
      " max_pooling2d (MaxPooling2D  (None, 75, 75, 32)       0         \n",
      " )                                                               \n",
      "                                                                 \n",
      " conv2d_1 (Conv2D)           (None, 75, 75, 64)        18496     \n",
      "                                                                 \n",
      " max_pooling2d_1 (MaxPooling  (None, 37, 37, 64)       0         \n",
      " 2D)                                                             \n",
      "                                                                 \n",
      " conv2d_2 (Conv2D)           (None, 37, 37, 128)       73856     \n",
      "                                                                 \n",
      " max_pooling2d_2 (MaxPooling  (None, 18, 18, 128)      0         \n",
      " 2D)                                                             \n",
      "                                                                 \n",
      " conv2d_3 (Conv2D)           (None, 18, 18, 128)       147584    \n",
      "                                                                 \n",
      " max_pooling2d_3 (MaxPooling  (None, 9, 9, 128)        0         \n",
      " 2D)                                                             \n",
      "                                                                 \n",
      " flatten (Flatten)           (None, 10368)             0         \n",
      "                                                                 \n",
      " dense (Dense)               (None, 512)               5308928   \n",
      "                                                                 \n",
      " dense_1 (Dense)             (None, 1)                 513       \n",
      "                                                                 \n",
      "=================================================================\n",
      "Total params: 5,549,697\n",
      "Trainable params: 5,549,697\n",
      "Non-trainable params: 0\n",
      "_________________________________________________________________\n"
     ]
    }
   ],
   "source": [
    "classifier.summary()"
   ]
  },
  {
   "cell_type": "markdown",
   "id": "b22349cf",
   "metadata": {},
   "source": [
    "## Compilar la CNN\n"
   ]
  },
  {
   "cell_type": "code",
   "execution_count": 23,
   "id": "a0607fb4",
   "metadata": {},
   "outputs": [],
   "source": [
    "classifier.compile(loss = \"binary_crossentropy\",\n",
    "                   optimizer = \"adam\",\n",
    "                   #optimizer = \"sgd\",\n",
    "                   #optimizer = \"rmsprop\",\n",
    "                   metrics=['acc', 'mse'])"
   ]
  },
  {
   "cell_type": "markdown",
   "id": "4ba0b37a",
   "metadata": {},
   "source": [
    "## Entrenar el modelo"
   ]
  },
  {
   "cell_type": "code",
   "execution_count": 24,
   "id": "72adc117",
   "metadata": {},
   "outputs": [],
   "source": [
    "pasos_entrenamiento=train_generator.n//train_generator.batch_size\n",
    "#pasos_entrenamiento=1\n",
    "pasos_validacion=validation_generator.n//validation_generator.batch_size\n",
    "#pasos_validacion=1"
   ]
  },
  {
   "cell_type": "code",
   "execution_count": null,
   "id": "fb541905",
   "metadata": {},
   "outputs": [
    {
     "name": "stdout",
     "output_type": "stream",
     "text": [
      "Epoch 1/20\n",
      "125/125 [==============================] - 18s 125ms/step - loss: 0.7013 - acc: 0.5040 - mse: 0.2530 - val_loss: 0.6939 - val_acc: 0.5020 - val_mse: 0.2504\n",
      "Epoch 2/20\n",
      "125/125 [==============================] - 6s 44ms/step - loss: 0.6929 - acc: 0.5150 - mse: 0.2499 - val_loss: 0.6887 - val_acc: 0.5081 - val_mse: 0.2478\n",
      "Epoch 3/20\n",
      "125/125 [==============================] - 6s 44ms/step - loss: 0.6845 - acc: 0.5720 - mse: 0.2457 - val_loss: 0.6655 - val_acc: 0.6169 - val_mse: 0.2362\n",
      "Epoch 4/20\n",
      "125/125 [==============================] - 6s 45ms/step - loss: 0.6822 - acc: 0.5535 - mse: 0.2446 - val_loss: 0.6737 - val_acc: 0.5585 - val_mse: 0.2403\n",
      "Epoch 5/20\n",
      "125/125 [==============================] - 6s 45ms/step - loss: 0.6638 - acc: 0.6060 - mse: 0.2349 - val_loss: 0.6373 - val_acc: 0.6512 - val_mse: 0.2228\n",
      "Epoch 6/20\n",
      "125/125 [==============================] - 6s 46ms/step - loss: 0.6010 - acc: 0.6810 - mse: 0.2071 - val_loss: 0.6267 - val_acc: 0.6391 - val_mse: 0.2194\n",
      "Epoch 7/20\n",
      "125/125 [==============================] - 6s 45ms/step - loss: 0.5533 - acc: 0.7130 - mse: 0.1866 - val_loss: 0.5787 - val_acc: 0.6996 - val_mse: 0.1977\n",
      "Epoch 8/20\n",
      "125/125 [==============================] - 6s 45ms/step - loss: 0.4713 - acc: 0.7675 - mse: 0.1560 - val_loss: 0.5122 - val_acc: 0.7702 - val_mse: 0.1681\n",
      "Epoch 9/20\n",
      "125/125 [==============================] - 6s 44ms/step - loss: 0.3842 - acc: 0.8315 - mse: 0.1235 - val_loss: 0.5318 - val_acc: 0.7641 - val_mse: 0.1680\n",
      "Epoch 10/20\n",
      "125/125 [==============================] - 6s 45ms/step - loss: 0.2745 - acc: 0.8790 - mse: 0.0862 - val_loss: 0.5671 - val_acc: 0.7520 - val_mse: 0.1784\n",
      "Epoch 11/20\n",
      "125/125 [==============================] - 6s 44ms/step - loss: 0.1475 - acc: 0.9420 - mse: 0.0436 - val_loss: 0.8466 - val_acc: 0.7540 - val_mse: 0.2012\n",
      "Epoch 12/20\n",
      "125/125 [==============================] - 6s 45ms/step - loss: 0.0727 - acc: 0.9750 - mse: 0.0196 - val_loss: 1.2358 - val_acc: 0.7137 - val_mse: 0.2402\n",
      "Epoch 13/20\n",
      "125/125 [==============================] - 6s 44ms/step - loss: 0.0825 - acc: 0.9695 - mse: 0.0238 - val_loss: 1.1878 - val_acc: 0.7036 - val_mse: 0.2372\n",
      "Epoch 14/20\n",
      "125/125 [==============================] - 6s 45ms/step - loss: 0.0677 - acc: 0.9795 - mse: 0.0175 - val_loss: 1.3020 - val_acc: 0.7218 - val_mse: 0.2381\n",
      "Epoch 15/20\n",
      "125/125 [==============================] - 6s 44ms/step - loss: 0.0243 - acc: 0.9930 - mse: 0.0058 - val_loss: 1.3947 - val_acc: 0.7218 - val_mse: 0.2369\n",
      "Epoch 16/20\n",
      "125/125 [==============================] - ETA: 0s - loss: 0.0021 - acc: 1.0000 - mse: 1.1570e-04"
     ]
    }
   ],
   "source": [
    "#\"\"\"\n",
    "cnn=classifier.fit(train_generator, #conjunto de entrenamiento\n",
    "               #y_test se toma de las etiquetas de los datos automaticamente\n",
    "               #https://stackoverflow.com/questions/62116637/y-argument-is-not-supported-when-using-keras-utils-sequence-as-input-error\n",
    "               #validation_generator, #conjunto de test\n",
    "               epochs=epocas, #Cuantas epocas usaremos para entrenar\n",
    "               steps_per_epoch=pasos_entrenamiento,\n",
    "               validation_data=(validation_generator),\n",
    "               validation_steps=pasos_validacion,\n",
    "               shuffle=True\n",
    "              ) \n",
    "#\"\"\""
   ]
  },
  {
   "cell_type": "code",
   "execution_count": null,
   "id": "62d4f3be",
   "metadata": {},
   "outputs": [],
   "source": [
    "\"\"\"\n",
    "cnn=classifier.fit_generator(\n",
    "train_generator, #conjunto de entrenamiento\n",
    "steps_per_epoch = train_generator.n//32, #Muestras que toma en cada ciclo de entrenamiento, pasaremos todas las imagenes\n",
    "epochs=25, #Cuantas epocas usaremos para entrenar\n",
    "validation_data=validation_generator, #Conjunto de validación\n",
    "validation_steps=2000) #Cada cuantos pasadas validaremos nuestro resultado en este caso 2 cada 8 epocas\n",
    "\"\"\""
   ]
  },
  {
   "cell_type": "markdown",
   "id": "9714e8a1",
   "metadata": {},
   "source": [
    "## Parte 3 - Cómo hacer nuevas predicciones"
   ]
  },
  {
   "cell_type": "code",
   "execution_count": null,
   "id": "52b599d6",
   "metadata": {},
   "outputs": [],
   "source": [
    "import numpy as np\n",
    "import keras.utils as image\n",
    "import os\n",
    "\n",
    "test_image = image.load_img('dataset/single_prediction/cat_or_dog_1.jpg', target_size = (pixel, pixel),color_mode='grayscale')\n",
    "\n",
    "test_image = image.img_to_array(test_image)\n",
    "test_image = np.expand_dims(test_image, axis = 0)\n",
    "result = classifier.predict(test_image)\n",
    "train_generator.class_indices\n",
    "if result[0][0] == 1:\n",
    "    prediction = 'dog'\n",
    "else:\n",
    "    prediction = 'cat'"
   ]
  },
  {
   "cell_type": "code",
   "execution_count": null,
   "id": "05ad2557",
   "metadata": {},
   "outputs": [],
   "source": [
    "prediction"
   ]
  },
  {
   "cell_type": "markdown",
   "id": "6ed1d757",
   "metadata": {},
   "source": [
    "## metricas"
   ]
  },
  {
   "cell_type": "markdown",
   "id": "56440243",
   "metadata": {},
   "source": [
    "### conjunto de predicciones"
   ]
  },
  {
   "cell_type": "code",
   "execution_count": null,
   "id": "b66d76d1",
   "metadata": {},
   "outputs": [],
   "source": [
    "predictions = classifier.predict(validation_generator)\n",
    "y_pred_df = pd.DataFrame(predictions)\n",
    "y_pred_df=np.round(y_pred_df)\n",
    "y_pred_df"
   ]
  },
  {
   "cell_type": "markdown",
   "id": "485779ed",
   "metadata": {},
   "source": [
    "### datos correctos"
   ]
  },
  {
   "cell_type": "code",
   "execution_count": null,
   "id": "471e5879",
   "metadata": {},
   "outputs": [],
   "source": [
    "true_classes = validation_generator.classes\n",
    "y_test_df = pd.DataFrame(true_classes)\n",
    "y_test_df"
   ]
  },
  {
   "cell_type": "markdown",
   "id": "5dcd1097",
   "metadata": {},
   "source": [
    "### etiquetas"
   ]
  },
  {
   "cell_type": "code",
   "execution_count": null,
   "id": "932d52d5",
   "metadata": {},
   "outputs": [],
   "source": [
    "class_labels = list(validation_generator.class_indices.keys())   \n",
    "class_labels"
   ]
  },
  {
   "cell_type": "markdown",
   "id": "b9e99f7e",
   "metadata": {},
   "source": [
    "### metricas entrenamiento"
   ]
  },
  {
   "cell_type": "code",
   "execution_count": null,
   "id": "2b29b724",
   "metadata": {},
   "outputs": [],
   "source": [
    "scores = classifier.evaluate(train_generator, steps=pasos_entrenamiento)\n",
    "print(\"\\n%s: %.2f%%\" % (classifier.metrics_names[1], scores[1]*100))"
   ]
  },
  {
   "cell_type": "markdown",
   "id": "891c526a",
   "metadata": {},
   "source": [
    "### metricas test"
   ]
  },
  {
   "cell_type": "code",
   "execution_count": null,
   "id": "29e27fe9",
   "metadata": {},
   "outputs": [],
   "source": [
    "scores = classifier.evaluate(test_generator,steps=pasos_validacion)\n",
    "print(\"\\n%s: %.2f%%\" % (classifier.metrics_names[1], scores[1]*100))"
   ]
  },
  {
   "cell_type": "markdown",
   "id": "610b234c",
   "metadata": {},
   "source": [
    "### scores"
   ]
  },
  {
   "cell_type": "code",
   "execution_count": null,
   "id": "54a206a1",
   "metadata": {},
   "outputs": [],
   "source": [
    "from sklearn.metrics import classification_report\n",
    "report = classification_report(y_pred_df, y_test_df, target_names=class_labels)\n",
    "print(report)   "
   ]
  },
  {
   "cell_type": "markdown",
   "id": "d545b231",
   "metadata": {},
   "source": [
    "### matriz de confusion"
   ]
  },
  {
   "cell_type": "code",
   "execution_count": null,
   "id": "83042088",
   "metadata": {},
   "outputs": [],
   "source": [
    "from sklearn.metrics import confusion_matrix\n",
    "cm= confusion_matrix(y_pred_df, y_test_df)\n",
    "print(cm)   "
   ]
  },
  {
   "cell_type": "code",
   "execution_count": null,
   "id": "9f94d7e8",
   "metadata": {},
   "outputs": [],
   "source": [
    "import seaborn as sns\n",
    "import matplotlib.pyplot as plt\n",
    "ax = sns.heatmap(cm/np.sum(cm), annot=True, \n",
    "            fmt='.2%', cmap='Blues')\n",
    "\n",
    "ax.set_title('Seaborn Confusion Matrix with labels\\n\\n');\n",
    "ax.set_xlabel('\\nPredicted Values')\n",
    "ax.set_ylabel('Actual Values ');\n",
    "\n",
    "## Ticket labels - List must be in alphabetical order\n",
    "ax.xaxis.set_ticklabels(['cat','dog'])\n",
    "ax.yaxis.set_ticklabels(['cat','dog'])\n",
    "\n",
    "## Display the visualization of the Confusion Matrix.\n",
    "plt.show()"
   ]
  },
  {
   "cell_type": "markdown",
   "id": "ff79ac81",
   "metadata": {},
   "source": [
    "### graficas de entrenamiento y pruebas"
   ]
  },
  {
   "cell_type": "code",
   "execution_count": null,
   "id": "052cc456",
   "metadata": {},
   "outputs": [],
   "source": [
    "plt.figure(0)  \n",
    "plt.plot(cnn.history['acc'],'r')  \n",
    "plt.plot(cnn.history['val_acc'],'g')  \n",
    "plt.xticks(np.arange(0, 2, 100))  \n",
    "plt.rcParams['figure.figsize'] = (8, 6)  \n",
    "plt.xlabel(\"Num of Epochs\")  \n",
    "plt.ylabel(\"Accuracy\")  \n",
    "plt.title(\"Training Accuracy vs Validation Accuracy\")  \n",
    "plt.legend(['train','validation'])\n",
    "\n"
   ]
  },
  {
   "cell_type": "code",
   "execution_count": null,
   "id": "1698a27e",
   "metadata": {},
   "outputs": [],
   "source": [
    "plt.figure(1)  \n",
    "plt.plot(cnn.history['loss'],'r')  \n",
    "plt.plot(cnn.history['val_loss'],'g')  \n",
    "plt.xticks(np.arange(0, 2, 100))  \n",
    "plt.rcParams['figure.figsize'] = (8, 6)  \n",
    "plt.xlabel(\"Num of Epochs\")  \n",
    "plt.ylabel(\"Loss\")  \n",
    "plt.title(\"Training Loss vs Validation Loss\")  \n",
    "plt.legend(['train','validation'])\n",
    "\n",
    "plt.show()  "
   ]
  },
  {
   "cell_type": "code",
   "execution_count": null,
   "id": "f5a8486f",
   "metadata": {},
   "outputs": [],
   "source": [
    "keras.backend.clear_session()"
   ]
  },
  {
   "cell_type": "code",
   "execution_count": null,
   "id": "024b0fd6",
   "metadata": {},
   "outputs": [],
   "source": []
  },
  {
   "cell_type": "code",
   "execution_count": null,
   "id": "3f52aa7b",
   "metadata": {},
   "outputs": [],
   "source": []
  },
  {
   "cell_type": "code",
   "execution_count": null,
   "id": "986bdf3a",
   "metadata": {},
   "outputs": [],
   "source": []
  },
  {
   "cell_type": "code",
   "execution_count": null,
   "id": "32a37cc8",
   "metadata": {},
   "outputs": [],
   "source": []
  },
  {
   "cell_type": "code",
   "execution_count": null,
   "id": "02c19e44",
   "metadata": {},
   "outputs": [],
   "source": []
  }
 ],
 "metadata": {
  "kernelspec": {
   "display_name": "Python 3 (ipykernel)",
   "language": "python",
   "name": "python3"
  },
  "language_info": {
   "codemirror_mode": {
    "name": "ipython",
    "version": 3
   },
   "file_extension": ".py",
   "mimetype": "text/x-python",
   "name": "python",
   "nbconvert_exporter": "python",
   "pygments_lexer": "ipython3",
   "version": "3.9.18"
  }
 },
 "nbformat": 4,
 "nbformat_minor": 5
}
